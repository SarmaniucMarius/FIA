{
  "nbformat": 4,
  "nbformat_minor": 0,
  "metadata": {
    "colab": {
      "name": "linear regression",
      "provenance": [],
      "collapsed_sections": [],
      "toc_visible": true
    },
    "kernelspec": {
      "name": "python3",
      "display_name": "Python 3"
    }
  },
  "cells": [
    {
      "cell_type": "code",
      "metadata": {
        "colab": {
          "base_uri": "https://localhost:8080/"
        },
        "id": "Ia7mzU6G_8y6",
        "outputId": "86fd6e8b-0527-4407-bc40-19b494805ded"
      },
      "source": [
        "import numpy as np\r\n",
        "from sklearn import datasets, linear_model, preprocessing\r\n",
        "from sklearn.metrics import mean_squared_error, r2_score\r\n",
        "from sklearn.model_selection import train_test_split\r\n",
        "import pandas\r\n",
        "\r\n",
        "if __name__ == \"__main__\":\r\n",
        "  df = pandas.read_csv(\"apartmentComplexData.txt\", names=[\"col1\", \"col2\", \"complexAge\", \"totalRooms\", \"totalBedrooms\", \"complexInhabitants\", \"apartmentsNr\", \"col8\", \"medianCompexValue\"])\r\n",
        "\r\n",
        "  X = df.iloc[:, 2:7]\r\n",
        "  Y = df.iloc[:, 8]\r\n",
        "\r\n",
        "  X_train, X_test, y_train, y_test = train_test_split(X, Y, test_size=0.2)\r\n",
        "\r\n",
        "  # Ordinary Least Squares\r\n",
        "  regr = linear_model.LinearRegression()\r\n",
        "  regr.fit(X_train, y_train)\r\n",
        "\r\n",
        "  prediction = regr.predict(X_test)\r\n",
        "  print(\"ORDINARY LEAST SQUARES\")\r\n",
        "  a = pandas.DataFrame({ \"Prediction\": prediction, \"Actual\": y_test})\r\n",
        "  print(a.head())\r\n",
        "  print('Score: %.2f' % regr.score(X_test, y_test))\r\n",
        "  "
      ],
      "execution_count": 64,
      "outputs": [
        {
          "output_type": "stream",
          "text": [
            "ORDINARY LEAST SQUARES\n",
            "          Prediction    Actual\n",
            "17640  242900.872577  255600.0\n",
            "17153  230210.234899  500001.0\n",
            "13693  157827.367250   81600.0\n",
            "19827  156924.459396   67400.0\n",
            "13795  148116.843598   69500.0\n",
            "Score: 0.14\n"
          ],
          "name": "stdout"
        }
      ]
    },
    {
      "cell_type": "code",
      "metadata": {
        "colab": {
          "base_uri": "https://localhost:8080/"
        },
        "id": "q2dVuz50IpVi",
        "outputId": "87e43e5c-d560-4456-c879-6af0da50c6f1"
      },
      "source": [
        "import numpy as np\r\n",
        "from sklearn import datasets, linear_model, preprocessing\r\n",
        "from sklearn.metrics import mean_squared_error, r2_score\r\n",
        "from sklearn.model_selection import train_test_split\r\n",
        "import pandas\r\n",
        "\r\n",
        "if __name__ == \"__main__\":\r\n",
        "  df = pandas.read_csv(\"apartmentComplexData.txt\", names=[\"IGNORED1\", \"IGNORED2\", \"complexAge\", \"totalRooms\", \"totalBedrooms\", \"complexInhabitants\", \"apartmentsNr\", \"IGNORED8\", \"medianCompexValue\"])\r\n",
        "  df = df.drop([\"IGNORED1\", \"IGNORED2\", \"IGNORED8\"], axis=1)\r\n",
        "\r\n",
        "  Q1 = df.quantile(0.25)\r\n",
        "  Q3 = df.quantile(0.75)\r\n",
        "  IQR = Q3 - Q1\r\n",
        "  df = df[(df > (Q1 - 1.5 * IQR)) & (df < (Q3 + 1.5 * IQR))]\r\n",
        "  df = df.dropna()\r\n",
        "\r\n",
        "  X = df.iloc[:, 0:5]\r\n",
        "  Y = df.iloc[:, 5]\r\n",
        "\r\n",
        "  X = preprocessing.normalize(X, norm='l2')\r\n",
        "  # Y = preprocessing.normalize(Y, norm='l2')\r\n",
        "  X_train, X_test, y_train, y_test = train_test_split(X, Y, test_size=0.2)\r\n",
        "\r\n",
        "  # Ordinary Least Squares\r\n",
        "  regr = linear_model.LinearRegression()\r\n",
        "  regr.fit(X_train, y_train)\r\n",
        "\r\n",
        "  prediction = regr.predict(X_test)\r\n",
        "  print(\"ORDINARY LEAST SQUARES\")\r\n",
        "  a = pandas.DataFrame({ \"Prediction\": prediction, \"Actual\": y_test})\r\n",
        "  print(a.head())\r\n",
        "  print('Score: %.2f' % regr.score(X_test, y_test))\r\n",
        "  "
      ],
      "execution_count": 65,
      "outputs": [
        {
          "output_type": "stream",
          "text": [
            "ORDINARY LEAST SQUARES\n",
            "          Prediction    Actual\n",
            "4791   168460.948829  125700.0\n",
            "17046  242606.604408  451300.0\n",
            "11370  139786.334333  218800.0\n",
            "8658   230132.269697  366200.0\n",
            "16491  164727.233284  156500.0\n",
            "Score: 0.17\n"
          ],
          "name": "stdout"
        }
      ]
    },
    {
      "cell_type": "code",
      "metadata": {
        "colab": {
          "base_uri": "https://localhost:8080/"
        },
        "id": "Svq_7yj7n7gN",
        "outputId": "21f5ec03-17ed-48ba-faff-8cb0c80a13df"
      },
      "source": [
        "import numpy as np\r\n",
        "from sklearn import datasets, linear_model, preprocessing, svm\r\n",
        "from sklearn.metrics import mean_squared_error, r2_score\r\n",
        "from sklearn.model_selection import train_test_split\r\n",
        "import pandas\r\n",
        "from sklearn.neural_network import MLPRegressor\r\n",
        "\r\n",
        "if __name__ == \"__main__\":\r\n",
        "  df = pandas.read_csv(\"apartmentComplexData.txt\", names=[\"IGNORED1\", \"IGNORED2\", \"complexAge\", \"totalRooms\", \"totalBedrooms\", \"complexInhabitants\", \"apartmentsNr\", \"IGNORED8\", \"medianCompexValue\"])\r\n",
        "  df = df.drop([\"IGNORED1\", \"IGNORED2\", \"IGNORED8\"], axis=1)\r\n",
        "\r\n",
        "  X = df.iloc[:, 0:5]\r\n",
        "  Y = df.iloc[:, 5]\r\n",
        "\r\n",
        "  X = preprocessing.normalize(X, norm='l2')\r\n",
        "  X_train, X_test, y_train, y_test = train_test_split(X, Y, test_size=0.2)\r\n",
        "  \r\n",
        "  # Ordinary Least Squares\r\n",
        "  regr = linear_model.LinearRegression()\r\n",
        "  regr.fit(X_train, y_train)\r\n",
        "\r\n",
        "  prediction = regr.predict(X_test)\r\n",
        "  print(\"ORDINARY LEAST SQUARES\")\r\n",
        "  a = pandas.DataFrame({ \"Prediction\": prediction, \"Actual\": y_test})\r\n",
        "  print(a.head())\r\n",
        "  print('Score: %.2f' % regr.score(X_test, y_test))\r\n",
        "  print(\"===================================\")\r\n",
        "\r\n",
        "  # Ridged regression\r\n",
        "  regr = linear_model.Ridge()\r\n",
        "  regr.fit(X_train, y_train)\r\n",
        "\r\n",
        "  prediction = regr.predict(X_test)\r\n",
        "  print(\"RIDGED REGRESSION\")\r\n",
        "  a = pandas.DataFrame({ \"Prediction\": prediction, \"Actual\": y_test})\r\n",
        "  print(a.head())\r\n",
        "  print('Score: %.2f' % regr.score(X_test, y_test))\r\n",
        "  print(\"===================================\")\r\n",
        "\r\n",
        "  # Lasso regression\r\n",
        "  regr = linear_model.Lasso()\r\n",
        "  regr.fit(X_train, y_train)\r\n",
        "\r\n",
        "  prediction = regr.predict(X_test)\r\n",
        "  print(\"LASSO\")\r\n",
        "  example_prediction = regr.predict([[41.0, 880.0, 129.0, 322.0, 126.0]])\r\n",
        "  a = pandas.DataFrame({ \"Prediction\": prediction, \"Actual\": y_test})\r\n",
        "  print(a.head())\r\n",
        "  print('Score: %.2f' % regr.score(X_test, y_test))\r\n",
        "  print(\"===================================\")\r\n",
        "\r\n",
        "  # LASSO LARS\r\n",
        "  regr = linear_model.LassoLars()\r\n",
        "  regr.fit(X_train, y_train)\r\n",
        "\r\n",
        "  prediction = regr.predict(X_test)\r\n",
        "  print(\"ELASTIC\")\r\n",
        "  a = pandas.DataFrame({ \"Prediction\": prediction, \"Actual\": y_test})\r\n",
        "  print(a.head())\r\n",
        "  print('Score: %.2f' % regr.score(X_test, y_test))\r\n",
        "  print(\"===================================\")\r\n",
        "\r\n",
        "  regr = MLPRegressor(random_state=1, max_iter=500)\r\n",
        "  regr.fit(X_train, y_train)\r\n",
        "  prediction = regr.predict(X_test)\r\n",
        "  print(\"ELASTIC\")\r\n",
        "  a = pandas.DataFrame({ \"Prediction\": prediction, \"Actual\": y_test})\r\n",
        "  print(a.head())\r\n",
        "  print('Score: %.2f' % regr.score(X_test, y_test))\r\n",
        "  print(\"===================================\")\r\n"
      ],
      "execution_count": 67,
      "outputs": [
        {
          "output_type": "stream",
          "text": [
            "ORDINARY LEAST SQUARES\n",
            "          Prediction    Actual\n",
            "10377  281295.609685  436600.0\n",
            "5303   295689.975731  500001.0\n",
            "15159  200227.053704  165800.0\n",
            "6466   202028.138275  248900.0\n",
            "1732   153933.915991  113600.0\n",
            "Score: 0.22\n",
            "===================================\n",
            "RIDGED REGRESSION\n",
            "          Prediction    Actual\n",
            "10377  276250.069136  436600.0\n",
            "5303   287590.937811  500001.0\n",
            "15159  202753.079524  165800.0\n",
            "6466   201966.386195  248900.0\n",
            "1732   165309.767266  113600.0\n",
            "Score: 0.22\n",
            "===================================\n",
            "LASSO\n",
            "          Prediction    Actual\n",
            "10377  281203.297690  436600.0\n",
            "5303   295536.546290  500001.0\n",
            "15159  200276.427891  165800.0\n",
            "6466   202045.591353  248900.0\n",
            "1732   154117.718303  113600.0\n",
            "Score: 0.22\n",
            "===================================\n",
            "ELASTIC\n",
            "          Prediction    Actual\n",
            "10377  280454.465898  436600.0\n",
            "5303   294240.986031  500001.0\n",
            "15159  200751.866035  165800.0\n",
            "6466   202453.519222  248900.0\n",
            "1732   155245.753203  113600.0\n",
            "Score: 0.22\n",
            "===================================\n",
            "ELASTIC\n",
            "          Prediction    Actual\n",
            "10377  194069.473175  436600.0\n",
            "5303   198284.292582  500001.0\n",
            "15159  202822.369833  165800.0\n",
            "6466   203610.814241  248900.0\n",
            "1732   208412.290923  113600.0\n",
            "Score: -0.03\n",
            "===================================\n"
          ],
          "name": "stdout"
        },
        {
          "output_type": "stream",
          "text": [
            "/usr/local/lib/python3.7/dist-packages/sklearn/neural_network/_multilayer_perceptron.py:571: ConvergenceWarning: Stochastic Optimizer: Maximum iterations (500) reached and the optimization hasn't converged yet.\n",
            "  % self.max_iter, ConvergenceWarning)\n"
          ],
          "name": "stderr"
        }
      ]
    },
    {
      "cell_type": "code",
      "metadata": {
        "id": "qZ5kLBfGIra4"
      },
      "source": [
        ""
      ],
      "execution_count": null,
      "outputs": []
    }
  ]
}